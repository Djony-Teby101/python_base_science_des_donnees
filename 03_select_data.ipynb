{
 "cells": [
  {
   "cell_type": "code",
   "execution_count": 1,
   "id": "e72f7c81-2f0d-4714-af28-ec83d7af87eb",
   "metadata": {
    "tags": []
   },
   "outputs": [],
   "source": [
    "import pandas as pd\n",
    "df=pd.read_csv(\"data.csv\")"
   ]
  },
  {
   "cell_type": "code",
   "execution_count": 5,
   "id": "e450fd9f-db3b-4b20-a511-8f5508b135dd",
   "metadata": {
    "tags": []
   },
   "outputs": [
    {
     "data": {
      "text/plain": [
       "0     malders0@shop-pro.jp\n",
       "1       hharridge1@gnu.org\n",
       "2    ekilminster2@etsy.com\n",
       "Name: email, dtype: object"
      ]
     },
     "execution_count": 5,
     "metadata": {},
     "output_type": "execute_result"
    }
   ],
   "source": [
    "df.email.head(3)"
   ]
  },
  {
   "cell_type": "code",
   "execution_count": 6,
   "id": "c56d6fc6-911f-44db-97bd-6ebb9275c0ce",
   "metadata": {
    "tags": []
   },
   "outputs": [
    {
     "data": {
      "text/plain": [
       "pandas.core.frame.DataFrame"
      ]
     },
     "execution_count": 6,
     "metadata": {},
     "output_type": "execute_result"
    }
   ],
   "source": [
    "type(df)"
   ]
  },
  {
   "cell_type": "code",
   "execution_count": 8,
   "id": "460e8be3-279a-48af-8f94-956b76982fcd",
   "metadata": {
    "tags": []
   },
   "outputs": [
    {
     "data": {
      "text/plain": [
       "pandas.core.series.Series"
      ]
     },
     "execution_count": 8,
     "metadata": {},
     "output_type": "execute_result"
    }
   ],
   "source": [
    "type(df[\"email\"])"
   ]
  },
  {
   "cell_type": "code",
   "execution_count": 10,
   "id": "1af5b4b8-3ca7-43d8-9f77-8bbe754c2896",
   "metadata": {
    "tags": []
   },
   "outputs": [
    {
     "data": {
      "text/plain": [
       "0       Marylin\n",
       "1         Hinda\n",
       "2           Erl\n",
       "3         Grata\n",
       "4         Kanya\n",
       "         ...   \n",
       "995        Duff\n",
       "996         Ame\n",
       "997       Betty\n",
       "998     Paquito\n",
       "999    Rochelle\n",
       "Name: first_name, Length: 1000, dtype: object"
      ]
     },
     "execution_count": 10,
     "metadata": {},
     "output_type": "execute_result"
    }
   ],
   "source": [
    "df.first_name"
   ]
  },
  {
   "cell_type": "code",
   "execution_count": 11,
   "id": "2bf297ba-9ca7-44a0-9621-5a686db29409",
   "metadata": {
    "tags": []
   },
   "outputs": [
    {
     "data": {
      "text/html": [
       "<div>\n",
       "<style scoped>\n",
       "    .dataframe tbody tr th:only-of-type {\n",
       "        vertical-align: middle;\n",
       "    }\n",
       "\n",
       "    .dataframe tbody tr th {\n",
       "        vertical-align: top;\n",
       "    }\n",
       "\n",
       "    .dataframe thead th {\n",
       "        text-align: right;\n",
       "    }\n",
       "</style>\n",
       "<table border=\"1\" class=\"dataframe\">\n",
       "  <thead>\n",
       "    <tr style=\"text-align: right;\">\n",
       "      <th></th>\n",
       "      <th>id</th>\n",
       "      <th>date</th>\n",
       "      <th>first_name</th>\n",
       "      <th>last_name</th>\n",
       "      <th>email</th>\n",
       "      <th>gender</th>\n",
       "      <th>ip_address</th>\n",
       "      <th>country</th>\n",
       "      <th>price_paid</th>\n",
       "      <th>tax</th>\n",
       "    </tr>\n",
       "  </thead>\n",
       "  <tbody>\n",
       "    <tr>\n",
       "      <th>10</th>\n",
       "      <td>11</td>\n",
       "      <td>03/11/2021</td>\n",
       "      <td>Lief</td>\n",
       "      <td>Woodcraft</td>\n",
       "      <td>lwoodcrafta@sitemeter.com</td>\n",
       "      <td>Male</td>\n",
       "      <td>201.76.240.51</td>\n",
       "      <td>Canada</td>\n",
       "      <td>$5.71</td>\n",
       "      <td>NaN</td>\n",
       "    </tr>\n",
       "    <tr>\n",
       "      <th>11</th>\n",
       "      <td>12</td>\n",
       "      <td>03/16/2021</td>\n",
       "      <td>Bailie</td>\n",
       "      <td>Wyman</td>\n",
       "      <td>bwymanb@lulu.com</td>\n",
       "      <td>Male</td>\n",
       "      <td>222.60.138.222</td>\n",
       "      <td>United States</td>\n",
       "      <td>$3.15</td>\n",
       "      <td>20.0</td>\n",
       "    </tr>\n",
       "    <tr>\n",
       "      <th>12</th>\n",
       "      <td>13</td>\n",
       "      <td>03/05/2021</td>\n",
       "      <td>Janice</td>\n",
       "      <td>Morillas</td>\n",
       "      <td>jmorillasc@miibeian.gov.cn</td>\n",
       "      <td>Female</td>\n",
       "      <td>24.25.198.252</td>\n",
       "      <td>Canada</td>\n",
       "      <td>$5.30</td>\n",
       "      <td>20.0</td>\n",
       "    </tr>\n",
       "    <tr>\n",
       "      <th>13</th>\n",
       "      <td>14</td>\n",
       "      <td>03/24/2021</td>\n",
       "      <td>Cull</td>\n",
       "      <td>Vassie</td>\n",
       "      <td>cvassied@unblog.fr</td>\n",
       "      <td>NaN</td>\n",
       "      <td>18.203.61.94</td>\n",
       "      <td>France</td>\n",
       "      <td>$5.97</td>\n",
       "      <td>20.0</td>\n",
       "    </tr>\n",
       "    <tr>\n",
       "      <th>14</th>\n",
       "      <td>15</td>\n",
       "      <td>03/21/2021</td>\n",
       "      <td>Oralie</td>\n",
       "      <td>Maryon</td>\n",
       "      <td>omaryone@va.gov</td>\n",
       "      <td>Female</td>\n",
       "      <td>215.248.16.198</td>\n",
       "      <td>United States</td>\n",
       "      <td>$4.53</td>\n",
       "      <td>20.0</td>\n",
       "    </tr>\n",
       "    <tr>\n",
       "      <th>15</th>\n",
       "      <td>16</td>\n",
       "      <td>03/24/2021</td>\n",
       "      <td>Julina</td>\n",
       "      <td>Faint</td>\n",
       "      <td>jfaintf@amazon.co.jp</td>\n",
       "      <td>Female</td>\n",
       "      <td>96.193.4.151</td>\n",
       "      <td>United States</td>\n",
       "      <td>$4.10</td>\n",
       "      <td>20.0</td>\n",
       "    </tr>\n",
       "    <tr>\n",
       "      <th>16</th>\n",
       "      <td>17</td>\n",
       "      <td>03/27/2021</td>\n",
       "      <td>Eve</td>\n",
       "      <td>Allaway</td>\n",
       "      <td>eallawayg@ebay.co.uk</td>\n",
       "      <td>Female</td>\n",
       "      <td>184.107.59.156</td>\n",
       "      <td>United States</td>\n",
       "      <td>$6.44</td>\n",
       "      <td>20.0</td>\n",
       "    </tr>\n",
       "    <tr>\n",
       "      <th>17</th>\n",
       "      <td>18</td>\n",
       "      <td>03/20/2021</td>\n",
       "      <td>Esta</td>\n",
       "      <td>Boulden</td>\n",
       "      <td>ebouldenh@posterous.com</td>\n",
       "      <td>NaN</td>\n",
       "      <td>220.109.140.190</td>\n",
       "      <td>United States</td>\n",
       "      <td>$3.16</td>\n",
       "      <td>20.0</td>\n",
       "    </tr>\n",
       "    <tr>\n",
       "      <th>18</th>\n",
       "      <td>19</td>\n",
       "      <td>03/16/2021</td>\n",
       "      <td>Judye</td>\n",
       "      <td>Behan</td>\n",
       "      <td>jbehani@google.es</td>\n",
       "      <td>Female</td>\n",
       "      <td>27.196.2.18</td>\n",
       "      <td>France</td>\n",
       "      <td>$4.90</td>\n",
       "      <td>20.0</td>\n",
       "    </tr>\n",
       "    <tr>\n",
       "      <th>19</th>\n",
       "      <td>20</td>\n",
       "      <td>03/01/2021</td>\n",
       "      <td>Sibeal</td>\n",
       "      <td>Mounch</td>\n",
       "      <td>smounchj@rakuten.co.jp</td>\n",
       "      <td>Male</td>\n",
       "      <td>218.17.7.177</td>\n",
       "      <td>Canada</td>\n",
       "      <td>$5.82</td>\n",
       "      <td>20.0</td>\n",
       "    </tr>\n",
       "  </tbody>\n",
       "</table>\n",
       "</div>"
      ],
      "text/plain": [
       "    id        date first_name  last_name                       email  gender  \\\n",
       "10  11  03/11/2021       Lief  Woodcraft   lwoodcrafta@sitemeter.com    Male   \n",
       "11  12  03/16/2021     Bailie      Wyman            bwymanb@lulu.com    Male   \n",
       "12  13  03/05/2021     Janice   Morillas  jmorillasc@miibeian.gov.cn  Female   \n",
       "13  14  03/24/2021       Cull     Vassie          cvassied@unblog.fr     NaN   \n",
       "14  15  03/21/2021     Oralie     Maryon             omaryone@va.gov  Female   \n",
       "15  16  03/24/2021     Julina      Faint        jfaintf@amazon.co.jp  Female   \n",
       "16  17  03/27/2021        Eve    Allaway        eallawayg@ebay.co.uk  Female   \n",
       "17  18  03/20/2021       Esta    Boulden     ebouldenh@posterous.com     NaN   \n",
       "18  19  03/16/2021      Judye      Behan           jbehani@google.es  Female   \n",
       "19  20  03/01/2021     Sibeal     Mounch      smounchj@rakuten.co.jp    Male   \n",
       "\n",
       "         ip_address        country price_paid   tax  \n",
       "10    201.76.240.51         Canada      $5.71   NaN  \n",
       "11   222.60.138.222  United States      $3.15  20.0  \n",
       "12    24.25.198.252         Canada      $5.30  20.0  \n",
       "13     18.203.61.94         France      $5.97  20.0  \n",
       "14   215.248.16.198  United States      $4.53  20.0  \n",
       "15     96.193.4.151  United States      $4.10  20.0  \n",
       "16   184.107.59.156  United States      $6.44  20.0  \n",
       "17  220.109.140.190  United States      $3.16  20.0  \n",
       "18      27.196.2.18         France      $4.90  20.0  \n",
       "19     218.17.7.177         Canada      $5.82  20.0  "
      ]
     },
     "execution_count": 11,
     "metadata": {},
     "output_type": "execute_result"
    }
   ],
   "source": [
    "df[10:20]"
   ]
  },
  {
   "cell_type": "code",
   "execution_count": 12,
   "id": "897316ad-83f3-4c60-989c-bae29e049afd",
   "metadata": {
    "tags": []
   },
   "outputs": [
    {
     "data": {
      "text/html": [
       "<div>\n",
       "<style scoped>\n",
       "    .dataframe tbody tr th:only-of-type {\n",
       "        vertical-align: middle;\n",
       "    }\n",
       "\n",
       "    .dataframe tbody tr th {\n",
       "        vertical-align: top;\n",
       "    }\n",
       "\n",
       "    .dataframe thead th {\n",
       "        text-align: right;\n",
       "    }\n",
       "</style>\n",
       "<table border=\"1\" class=\"dataframe\">\n",
       "  <thead>\n",
       "    <tr style=\"text-align: right;\">\n",
       "      <th></th>\n",
       "      <th>id</th>\n",
       "      <th>date</th>\n",
       "      <th>first_name</th>\n",
       "      <th>last_name</th>\n",
       "      <th>email</th>\n",
       "      <th>gender</th>\n",
       "      <th>ip_address</th>\n",
       "      <th>country</th>\n",
       "      <th>price_paid</th>\n",
       "      <th>tax</th>\n",
       "    </tr>\n",
       "  </thead>\n",
       "  <tbody>\n",
       "    <tr>\n",
       "      <th>10</th>\n",
       "      <td>11</td>\n",
       "      <td>03/11/2021</td>\n",
       "      <td>Lief</td>\n",
       "      <td>Woodcraft</td>\n",
       "      <td>lwoodcrafta@sitemeter.com</td>\n",
       "      <td>Male</td>\n",
       "      <td>201.76.240.51</td>\n",
       "      <td>Canada</td>\n",
       "      <td>$5.71</td>\n",
       "      <td>NaN</td>\n",
       "    </tr>\n",
       "    <tr>\n",
       "      <th>11</th>\n",
       "      <td>12</td>\n",
       "      <td>03/16/2021</td>\n",
       "      <td>Bailie</td>\n",
       "      <td>Wyman</td>\n",
       "      <td>bwymanb@lulu.com</td>\n",
       "      <td>Male</td>\n",
       "      <td>222.60.138.222</td>\n",
       "      <td>United States</td>\n",
       "      <td>$3.15</td>\n",
       "      <td>20.0</td>\n",
       "    </tr>\n",
       "    <tr>\n",
       "      <th>12</th>\n",
       "      <td>13</td>\n",
       "      <td>03/05/2021</td>\n",
       "      <td>Janice</td>\n",
       "      <td>Morillas</td>\n",
       "      <td>jmorillasc@miibeian.gov.cn</td>\n",
       "      <td>Female</td>\n",
       "      <td>24.25.198.252</td>\n",
       "      <td>Canada</td>\n",
       "      <td>$5.30</td>\n",
       "      <td>20.0</td>\n",
       "    </tr>\n",
       "    <tr>\n",
       "      <th>13</th>\n",
       "      <td>14</td>\n",
       "      <td>03/24/2021</td>\n",
       "      <td>Cull</td>\n",
       "      <td>Vassie</td>\n",
       "      <td>cvassied@unblog.fr</td>\n",
       "      <td>NaN</td>\n",
       "      <td>18.203.61.94</td>\n",
       "      <td>France</td>\n",
       "      <td>$5.97</td>\n",
       "      <td>20.0</td>\n",
       "    </tr>\n",
       "  </tbody>\n",
       "</table>\n",
       "</div>"
      ],
      "text/plain": [
       "    id        date first_name  last_name                       email  gender  \\\n",
       "10  11  03/11/2021       Lief  Woodcraft   lwoodcrafta@sitemeter.com    Male   \n",
       "11  12  03/16/2021     Bailie      Wyman            bwymanb@lulu.com    Male   \n",
       "12  13  03/05/2021     Janice   Morillas  jmorillasc@miibeian.gov.cn  Female   \n",
       "13  14  03/24/2021       Cull     Vassie          cvassied@unblog.fr     NaN   \n",
       "\n",
       "        ip_address        country price_paid   tax  \n",
       "10   201.76.240.51         Canada      $5.71   NaN  \n",
       "11  222.60.138.222  United States      $3.15  20.0  \n",
       "12   24.25.198.252         Canada      $5.30  20.0  \n",
       "13    18.203.61.94         France      $5.97  20.0  "
      ]
     },
     "execution_count": 12,
     "metadata": {},
     "output_type": "execute_result"
    }
   ],
   "source": [
    "df.loc[10:13]"
   ]
  },
  {
   "cell_type": "code",
   "execution_count": 13,
   "id": "048db8e4-c90b-4e4d-b33c-0796af622fc3",
   "metadata": {
    "tags": []
   },
   "outputs": [
    {
     "data": {
      "text/plain": [
       "id                       11\n",
       "date             03/11/2021\n",
       "first_name             Lief\n",
       "last_name         Woodcraft\n",
       "gender                 Male\n",
       "ip_address    201.76.240.51\n",
       "country              Canada\n",
       "price_paid            $5.71\n",
       "tax                     NaN\n",
       "Name: lwoodcrafta@sitemeter.com, dtype: object"
      ]
     },
     "execution_count": 13,
     "metadata": {},
     "output_type": "execute_result"
    }
   ],
   "source": [
    "df_email=df.set_index(\"email\")\n",
    "df_email.loc['lwoodcrafta@sitemeter.com']"
   ]
  },
  {
   "cell_type": "code",
   "execution_count": 14,
   "id": "db6611ce-52a0-480a-b6cd-4d0046fbd2fc",
   "metadata": {
    "tags": []
   },
   "outputs": [
    {
     "data": {
      "text/html": [
       "<div>\n",
       "<style scoped>\n",
       "    .dataframe tbody tr th:only-of-type {\n",
       "        vertical-align: middle;\n",
       "    }\n",
       "\n",
       "    .dataframe tbody tr th {\n",
       "        vertical-align: top;\n",
       "    }\n",
       "\n",
       "    .dataframe thead th {\n",
       "        text-align: right;\n",
       "    }\n",
       "</style>\n",
       "<table border=\"1\" class=\"dataframe\">\n",
       "  <thead>\n",
       "    <tr style=\"text-align: right;\">\n",
       "      <th></th>\n",
       "      <th>id</th>\n",
       "      <th>date</th>\n",
       "      <th>first_name</th>\n",
       "      <th>last_name</th>\n",
       "      <th>email</th>\n",
       "      <th>gender</th>\n",
       "      <th>ip_address</th>\n",
       "      <th>country</th>\n",
       "      <th>price_paid</th>\n",
       "      <th>tax</th>\n",
       "    </tr>\n",
       "  </thead>\n",
       "  <tbody>\n",
       "    <tr>\n",
       "      <th>1</th>\n",
       "      <td>2</td>\n",
       "      <td>03/19/2021</td>\n",
       "      <td>Hinda</td>\n",
       "      <td>Harridge</td>\n",
       "      <td>hharridge1@gnu.org</td>\n",
       "      <td>Female</td>\n",
       "      <td>210.51.172.132</td>\n",
       "      <td>Canada</td>\n",
       "      <td>$8.32</td>\n",
       "      <td>NaN</td>\n",
       "    </tr>\n",
       "    <tr>\n",
       "      <th>2</th>\n",
       "      <td>3</td>\n",
       "      <td>03/17/2021</td>\n",
       "      <td>Erl</td>\n",
       "      <td>Kilminster</td>\n",
       "      <td>ekilminster2@etsy.com</td>\n",
       "      <td>Male</td>\n",
       "      <td>213.8.101.145</td>\n",
       "      <td>United States</td>\n",
       "      <td>$3.73</td>\n",
       "      <td>20.0</td>\n",
       "    </tr>\n",
       "  </tbody>\n",
       "</table>\n",
       "</div>"
      ],
      "text/plain": [
       "   id        date first_name   last_name                  email  gender  \\\n",
       "1   2  03/19/2021      Hinda    Harridge     hharridge1@gnu.org  Female   \n",
       "2   3  03/17/2021        Erl  Kilminster  ekilminster2@etsy.com    Male   \n",
       "\n",
       "       ip_address        country price_paid   tax  \n",
       "1  210.51.172.132         Canada      $8.32   NaN  \n",
       "2   213.8.101.145  United States      $3.73  20.0  "
      ]
     },
     "execution_count": 14,
     "metadata": {},
     "output_type": "execute_result"
    }
   ],
   "source": [
    "df[1:3]"
   ]
  },
  {
   "cell_type": "code",
   "execution_count": 15,
   "id": "96f45009-388e-4d8b-bff7-0608d007c6a5",
   "metadata": {
    "tags": []
   },
   "outputs": [
    {
     "data": {
      "text/html": [
       "<div>\n",
       "<style scoped>\n",
       "    .dataframe tbody tr th:only-of-type {\n",
       "        vertical-align: middle;\n",
       "    }\n",
       "\n",
       "    .dataframe tbody tr th {\n",
       "        vertical-align: top;\n",
       "    }\n",
       "\n",
       "    .dataframe thead th {\n",
       "        text-align: right;\n",
       "    }\n",
       "</style>\n",
       "<table border=\"1\" class=\"dataframe\">\n",
       "  <thead>\n",
       "    <tr style=\"text-align: right;\">\n",
       "      <th></th>\n",
       "      <th>id</th>\n",
       "      <th>date</th>\n",
       "      <th>first_name</th>\n",
       "      <th>last_name</th>\n",
       "      <th>email</th>\n",
       "      <th>gender</th>\n",
       "      <th>ip_address</th>\n",
       "      <th>country</th>\n",
       "      <th>price_paid</th>\n",
       "      <th>tax</th>\n",
       "    </tr>\n",
       "  </thead>\n",
       "  <tbody>\n",
       "    <tr>\n",
       "      <th>1</th>\n",
       "      <td>2</td>\n",
       "      <td>03/19/2021</td>\n",
       "      <td>Hinda</td>\n",
       "      <td>Harridge</td>\n",
       "      <td>hharridge1@gnu.org</td>\n",
       "      <td>Female</td>\n",
       "      <td>210.51.172.132</td>\n",
       "      <td>Canada</td>\n",
       "      <td>$8.32</td>\n",
       "      <td>NaN</td>\n",
       "    </tr>\n",
       "    <tr>\n",
       "      <th>2</th>\n",
       "      <td>3</td>\n",
       "      <td>03/17/2021</td>\n",
       "      <td>Erl</td>\n",
       "      <td>Kilminster</td>\n",
       "      <td>ekilminster2@etsy.com</td>\n",
       "      <td>Male</td>\n",
       "      <td>213.8.101.145</td>\n",
       "      <td>United States</td>\n",
       "      <td>$3.73</td>\n",
       "      <td>20.0</td>\n",
       "    </tr>\n",
       "    <tr>\n",
       "      <th>3</th>\n",
       "      <td>4</td>\n",
       "      <td>03/19/2021</td>\n",
       "      <td>Grata</td>\n",
       "      <td>Brantl</td>\n",
       "      <td>gbrantl3@umn.edu</td>\n",
       "      <td>Female</td>\n",
       "      <td>5.140.237.101</td>\n",
       "      <td>United States</td>\n",
       "      <td>$3.70</td>\n",
       "      <td>20.0</td>\n",
       "    </tr>\n",
       "  </tbody>\n",
       "</table>\n",
       "</div>"
      ],
      "text/plain": [
       "   id        date first_name   last_name                  email  gender  \\\n",
       "1   2  03/19/2021      Hinda    Harridge     hharridge1@gnu.org  Female   \n",
       "2   3  03/17/2021        Erl  Kilminster  ekilminster2@etsy.com    Male   \n",
       "3   4  03/19/2021      Grata      Brantl       gbrantl3@umn.edu  Female   \n",
       "\n",
       "       ip_address        country price_paid   tax  \n",
       "1  210.51.172.132         Canada      $8.32   NaN  \n",
       "2   213.8.101.145  United States      $3.73  20.0  \n",
       "3   5.140.237.101  United States      $3.70  20.0  "
      ]
     },
     "execution_count": 15,
     "metadata": {},
     "output_type": "execute_result"
    }
   ],
   "source": [
    "df.loc[1:3]"
   ]
  },
  {
   "cell_type": "code",
   "execution_count": 16,
   "id": "10e9e4d6-272a-4716-a301-e214850d92ab",
   "metadata": {
    "tags": []
   },
   "outputs": [
    {
     "data": {
      "text/plain": [
       "id                         2\n",
       "date              03/19/2021\n",
       "first_name             Hinda\n",
       "last_name           Harridge\n",
       "gender                Female\n",
       "ip_address    210.51.172.132\n",
       "country               Canada\n",
       "price_paid             $8.32\n",
       "tax                      NaN\n",
       "Name: hharridge1@gnu.org, dtype: object"
      ]
     },
     "execution_count": 16,
     "metadata": {},
     "output_type": "execute_result"
    }
   ],
   "source": [
    "df_email.loc['hharridge1@gnu.org']"
   ]
  },
  {
   "cell_type": "code",
   "execution_count": 19,
   "id": "1736f8dc-27aa-41fa-b2a9-b85bdb13c25a",
   "metadata": {
    "tags": []
   },
   "outputs": [],
   "source": [
    "tail=df_email.loc[['hharridge1@gnu.org','ekilminster2@etsy.com']]"
   ]
  },
  {
   "cell_type": "code",
   "execution_count": 21,
   "id": "8d00e2ed-514c-47ff-b730-e9b95be8821b",
   "metadata": {
    "tags": []
   },
   "outputs": [
    {
     "data": {
      "text/plain": [
       "pandas.core.frame.DataFrame"
      ]
     },
     "execution_count": 21,
     "metadata": {},
     "output_type": "execute_result"
    }
   ],
   "source": [
    "type(tail)"
   ]
  },
  {
   "cell_type": "code",
   "execution_count": 23,
   "id": "8770ffe8-4b58-4398-9121-8be382da8c5f",
   "metadata": {
    "tags": []
   },
   "outputs": [
    {
     "data": {
      "text/plain": [
       "[[2,\n",
       "  '03/19/2021',\n",
       "  'Hinda',\n",
       "  'Harridge',\n",
       "  'Female',\n",
       "  '210.51.172.132',\n",
       "  'Canada',\n",
       "  '$8.32',\n",
       "  nan],\n",
       " [3,\n",
       "  '03/17/2021',\n",
       "  'Erl',\n",
       "  'Kilminster',\n",
       "  'Male',\n",
       "  '213.8.101.145',\n",
       "  'United States',\n",
       "  '$3.73',\n",
       "  20.0]]"
      ]
     },
     "execution_count": 23,
     "metadata": {},
     "output_type": "execute_result"
    }
   ],
   "source": [
    "tail.values.tolist()"
   ]
  },
  {
   "cell_type": "code",
   "execution_count": null,
   "id": "138ef586-af0e-44a4-a234-da77cd988f12",
   "metadata": {},
   "outputs": [],
   "source": []
  }
 ],
 "metadata": {
  "kernelspec": {
   "display_name": "Python 3 (ipykernel)",
   "language": "python",
   "name": "python3"
  },
  "language_info": {
   "codemirror_mode": {
    "name": "ipython",
    "version": 3
   },
   "file_extension": ".py",
   "mimetype": "text/x-python",
   "name": "python",
   "nbconvert_exporter": "python",
   "pygments_lexer": "ipython3",
   "version": "3.9.0"
  }
 },
 "nbformat": 4,
 "nbformat_minor": 5
}
