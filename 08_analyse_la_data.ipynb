{
 "cells": [
  {
   "cell_type": "markdown",
   "id": "e9bccf6c-0acd-43a8-b382-ea4b4d459175",
   "metadata": {},
   "source": [
    "# ANALYSE LA DATA"
   ]
  },
  {
   "cell_type": "code",
   "execution_count": 1,
   "id": "5354704c-9009-4bc0-9b26-1b0642a0387c",
   "metadata": {
    "tags": []
   },
   "outputs": [],
   "source": [
    "import pandas as pd\n",
    "df=pd.read_csv(\"data.csv\")"
   ]
  },
  {
   "cell_type": "code",
   "execution_count": 2,
   "id": "4b9835fe-d32a-4960-be3c-ef0cca24003b",
   "metadata": {
    "tags": []
   },
   "outputs": [
    {
     "data": {
      "text/html": [
       "<div>\n",
       "<style scoped>\n",
       "    .dataframe tbody tr th:only-of-type {\n",
       "        vertical-align: middle;\n",
       "    }\n",
       "\n",
       "    .dataframe tbody tr th {\n",
       "        vertical-align: top;\n",
       "    }\n",
       "\n",
       "    .dataframe thead th {\n",
       "        text-align: right;\n",
       "    }\n",
       "</style>\n",
       "<table border=\"1\" class=\"dataframe\">\n",
       "  <thead>\n",
       "    <tr style=\"text-align: right;\">\n",
       "      <th></th>\n",
       "      <th>id</th>\n",
       "      <th>date</th>\n",
       "      <th>first_name</th>\n",
       "      <th>last_name</th>\n",
       "      <th>email</th>\n",
       "      <th>gender</th>\n",
       "      <th>ip_address</th>\n",
       "      <th>country</th>\n",
       "      <th>price_paid</th>\n",
       "      <th>tax</th>\n",
       "    </tr>\n",
       "  </thead>\n",
       "  <tbody>\n",
       "    <tr>\n",
       "      <th>0</th>\n",
       "      <td>1</td>\n",
       "      <td>03/28/2021</td>\n",
       "      <td>Marylin</td>\n",
       "      <td>Alders</td>\n",
       "      <td>malders0@shop-pro.jp</td>\n",
       "      <td>Male</td>\n",
       "      <td>160.119.8.119</td>\n",
       "      <td>Canada</td>\n",
       "      <td>$5.36</td>\n",
       "      <td>NaN</td>\n",
       "    </tr>\n",
       "    <tr>\n",
       "      <th>1</th>\n",
       "      <td>2</td>\n",
       "      <td>03/19/2021</td>\n",
       "      <td>Hinda</td>\n",
       "      <td>Harridge</td>\n",
       "      <td>hharridge1@gnu.org</td>\n",
       "      <td>Female</td>\n",
       "      <td>210.51.172.132</td>\n",
       "      <td>Canada</td>\n",
       "      <td>$8.32</td>\n",
       "      <td>NaN</td>\n",
       "    </tr>\n",
       "    <tr>\n",
       "      <th>2</th>\n",
       "      <td>3</td>\n",
       "      <td>03/17/2021</td>\n",
       "      <td>Erl</td>\n",
       "      <td>Kilminster</td>\n",
       "      <td>ekilminster2@etsy.com</td>\n",
       "      <td>Male</td>\n",
       "      <td>213.8.101.145</td>\n",
       "      <td>United States</td>\n",
       "      <td>$3.73</td>\n",
       "      <td>20.0</td>\n",
       "    </tr>\n",
       "    <tr>\n",
       "      <th>3</th>\n",
       "      <td>4</td>\n",
       "      <td>03/19/2021</td>\n",
       "      <td>Grata</td>\n",
       "      <td>Brantl</td>\n",
       "      <td>gbrantl3@umn.edu</td>\n",
       "      <td>Female</td>\n",
       "      <td>5.140.237.101</td>\n",
       "      <td>United States</td>\n",
       "      <td>$3.70</td>\n",
       "      <td>20.0</td>\n",
       "    </tr>\n",
       "    <tr>\n",
       "      <th>4</th>\n",
       "      <td>5</td>\n",
       "      <td>03/24/2021</td>\n",
       "      <td>Kanya</td>\n",
       "      <td>Beasant</td>\n",
       "      <td>kbeasant4@jigsy.com</td>\n",
       "      <td>Male</td>\n",
       "      <td>106.252.162.233</td>\n",
       "      <td>Morocco</td>\n",
       "      <td>$9.24</td>\n",
       "      <td>20.0</td>\n",
       "    </tr>\n",
       "  </tbody>\n",
       "</table>\n",
       "</div>"
      ],
      "text/plain": [
       "   id        date first_name   last_name                  email  gender  \\\n",
       "0   1  03/28/2021    Marylin      Alders   malders0@shop-pro.jp    Male   \n",
       "1   2  03/19/2021      Hinda    Harridge     hharridge1@gnu.org  Female   \n",
       "2   3  03/17/2021        Erl  Kilminster  ekilminster2@etsy.com    Male   \n",
       "3   4  03/19/2021      Grata      Brantl       gbrantl3@umn.edu  Female   \n",
       "4   5  03/24/2021      Kanya     Beasant    kbeasant4@jigsy.com    Male   \n",
       "\n",
       "        ip_address        country price_paid   tax  \n",
       "0    160.119.8.119         Canada      $5.36   NaN  \n",
       "1   210.51.172.132         Canada      $8.32   NaN  \n",
       "2    213.8.101.145  United States      $3.73  20.0  \n",
       "3    5.140.237.101  United States      $3.70  20.0  \n",
       "4  106.252.162.233        Morocco      $9.24  20.0  "
      ]
     },
     "execution_count": 2,
     "metadata": {},
     "output_type": "execute_result"
    }
   ],
   "source": [
    "df.head()"
   ]
  },
  {
   "cell_type": "code",
   "execution_count": 6,
   "id": "9b503dd2-0fdd-4977-a553-768f50374b04",
   "metadata": {
    "tags": []
   },
   "outputs": [
    {
     "data": {
      "text/plain": [
       "count      1000\n",
       "unique      528\n",
       "top       $3.73\n",
       "freq          8\n",
       "Name: price_paid, dtype: object"
      ]
     },
     "execution_count": 6,
     "metadata": {},
     "output_type": "execute_result"
    }
   ],
   "source": [
    "df[\"price_paid\"].describe()"
   ]
  },
  {
   "cell_type": "code",
   "execution_count": 7,
   "id": "80e21042-a221-47dd-9278-180098b8d8b5",
   "metadata": {
    "tags": []
   },
   "outputs": [],
   "source": [
    "df.price_paid=df.price_paid.apply(lambda x: x.replace(\"$\",\"\"))\n",
    "df.price_paid=df.price_paid.astype(float)"
   ]
  },
  {
   "cell_type": "code",
   "execution_count": 10,
   "id": "5139a805-b0d6-4f84-b6ca-76364ffd0e73",
   "metadata": {
    "tags": []
   },
   "outputs": [
    {
     "data": {
      "text/plain": [
       "dtype('float64')"
      ]
     },
     "execution_count": 10,
     "metadata": {},
     "output_type": "execute_result"
    }
   ],
   "source": [
    "df[\"price_paid\"].dtype"
   ]
  },
  {
   "cell_type": "code",
   "execution_count": 11,
   "id": "04a5b21a-b1bc-4b4d-a305-94221a926ab6",
   "metadata": {
    "tags": []
   },
   "outputs": [
    {
     "data": {
      "text/plain": [
       "6.461930000000001"
      ]
     },
     "execution_count": 11,
     "metadata": {},
     "output_type": "execute_result"
    }
   ],
   "source": [
    "df.price_paid.mean()"
   ]
  },
  {
   "cell_type": "code",
   "execution_count": 12,
   "id": "51ef0a71-41aa-4904-984a-9fb5689c742d",
   "metadata": {
    "tags": []
   },
   "outputs": [
    {
     "data": {
      "text/plain": [
       "6461.93"
      ]
     },
     "execution_count": 12,
     "metadata": {},
     "output_type": "execute_result"
    }
   ],
   "source": [
    "df.price_paid.sum()"
   ]
  },
  {
   "cell_type": "code",
   "execution_count": 13,
   "id": "7446e3c4-1c3d-460a-a28c-fd51ca8dc1aa",
   "metadata": {
    "tags": []
   },
   "outputs": [
    {
     "data": {
      "text/plain": [
       "3.0"
      ]
     },
     "execution_count": 13,
     "metadata": {},
     "output_type": "execute_result"
    }
   ],
   "source": [
    "df.price_paid.min()"
   ]
  },
  {
   "cell_type": "code",
   "execution_count": 14,
   "id": "89cad13e-a422-4a0d-8077-51c978eff3ee",
   "metadata": {
    "tags": []
   },
   "outputs": [
    {
     "data": {
      "text/plain": [
       "10.0"
      ]
     },
     "execution_count": 14,
     "metadata": {},
     "output_type": "execute_result"
    }
   ],
   "source": [
    "df.price_paid.max()"
   ]
  },
  {
   "cell_type": "code",
   "execution_count": 15,
   "id": "b4c561be-f128-4aee-8cfd-ad91f5c59e75",
   "metadata": {
    "tags": []
   },
   "outputs": [
    {
     "data": {
      "text/plain": [
       "array(['Canada', 'United States', 'Morocco', 'France', nan], dtype=object)"
      ]
     },
     "execution_count": 15,
     "metadata": {},
     "output_type": "execute_result"
    }
   ],
   "source": [
    "df.country.unique()"
   ]
  },
  {
   "cell_type": "code",
   "execution_count": 16,
   "id": "9df19ca9-ff66-4053-a1ae-89cb6c56b6b9",
   "metadata": {
    "tags": []
   },
   "outputs": [
    {
     "data": {
      "text/plain": [
       "France           408\n",
       "United States    333\n",
       "Canada           161\n",
       "Morocco           54\n",
       "Name: country, dtype: int64"
      ]
     },
     "execution_count": 16,
     "metadata": {},
     "output_type": "execute_result"
    }
   ],
   "source": [
    "df[\"country\"].value_counts()"
   ]
  },
  {
   "cell_type": "code",
   "execution_count": 18,
   "id": "57c01082-dc2c-41a7-9634-88cbe01c8618",
   "metadata": {
    "tags": []
   },
   "outputs": [
    {
     "data": {
      "text/plain": [
       "Female    0.529538\n",
       "Male      0.470462\n",
       "Name: gender, dtype: float64"
      ]
     },
     "execution_count": 18,
     "metadata": {},
     "output_type": "execute_result"
    }
   ],
   "source": [
    "df.gender.value_counts(normalize=True)"
   ]
  },
  {
   "cell_type": "code",
   "execution_count": 21,
   "id": "6d35e00e-108c-4663-b8e9-94a349e074c6",
   "metadata": {
    "tags": []
   },
   "outputs": [
    {
     "name": "stderr",
     "output_type": "stream",
     "text": [
      "C:\\Users\\HP\\AppData\\Local\\Temp\\ipykernel_6608\\2783625821.py:1: FutureWarning: The default value of numeric_only in DataFrameGroupBy.mean is deprecated. In a future version, numeric_only will default to False. Either specify numeric_only or select only columns which should be valid for the function.\n",
      "  df.groupby(\"country\").mean()\n"
     ]
    },
    {
     "data": {
      "text/html": [
       "<div>\n",
       "<style scoped>\n",
       "    .dataframe tbody tr th:only-of-type {\n",
       "        vertical-align: middle;\n",
       "    }\n",
       "\n",
       "    .dataframe tbody tr th {\n",
       "        vertical-align: top;\n",
       "    }\n",
       "\n",
       "    .dataframe thead th {\n",
       "        text-align: right;\n",
       "    }\n",
       "</style>\n",
       "<table border=\"1\" class=\"dataframe\">\n",
       "  <thead>\n",
       "    <tr style=\"text-align: right;\">\n",
       "      <th></th>\n",
       "      <th>id</th>\n",
       "      <th>price_paid</th>\n",
       "      <th>tax</th>\n",
       "    </tr>\n",
       "    <tr>\n",
       "      <th>country</th>\n",
       "      <th></th>\n",
       "      <th></th>\n",
       "      <th></th>\n",
       "    </tr>\n",
       "  </thead>\n",
       "  <tbody>\n",
       "    <tr>\n",
       "      <th>Canada</th>\n",
       "      <td>437.049689</td>\n",
       "      <td>6.319565</td>\n",
       "      <td>20.0</td>\n",
       "    </tr>\n",
       "    <tr>\n",
       "      <th>France</th>\n",
       "      <td>525.588235</td>\n",
       "      <td>6.420613</td>\n",
       "      <td>20.0</td>\n",
       "    </tr>\n",
       "    <tr>\n",
       "      <th>Morocco</th>\n",
       "      <td>492.425926</td>\n",
       "      <td>6.721667</td>\n",
       "      <td>20.0</td>\n",
       "    </tr>\n",
       "    <tr>\n",
       "      <th>United States</th>\n",
       "      <td>504.954955</td>\n",
       "      <td>6.557568</td>\n",
       "      <td>20.0</td>\n",
       "    </tr>\n",
       "  </tbody>\n",
       "</table>\n",
       "</div>"
      ],
      "text/plain": [
       "                       id  price_paid   tax\n",
       "country                                    \n",
       "Canada         437.049689    6.319565  20.0\n",
       "France         525.588235    6.420613  20.0\n",
       "Morocco        492.425926    6.721667  20.0\n",
       "United States  504.954955    6.557568  20.0"
      ]
     },
     "execution_count": 21,
     "metadata": {},
     "output_type": "execute_result"
    }
   ],
   "source": [
    "df.groupby(\"country\").mean()"
   ]
  },
  {
   "cell_type": "code",
   "execution_count": 23,
   "id": "25fc06e0-8506-448d-838e-1a8fbfe63d6d",
   "metadata": {
    "tags": []
   },
   "outputs": [
    {
     "data": {
      "text/plain": [
       "gender\n",
       "Female    3165.26\n",
       "Male      2833.61\n",
       "Name: price_paid, dtype: float64"
      ]
     },
     "execution_count": 23,
     "metadata": {},
     "output_type": "execute_result"
    }
   ],
   "source": [
    "df.groupby(\"gender\")[\"price_paid\"].sum()"
   ]
  },
  {
   "cell_type": "code",
   "execution_count": 24,
   "id": "de364fe5-0310-4583-88a3-e6b04d425818",
   "metadata": {
    "tags": []
   },
   "outputs": [
    {
     "name": "stderr",
     "output_type": "stream",
     "text": [
      "C:\\Users\\HP\\AppData\\Local\\Temp\\ipykernel_6608\\1075162087.py:1: FutureWarning: The default value of numeric_only in DataFrameGroupBy.mean is deprecated. In a future version, numeric_only will default to False. Either specify numeric_only or select only columns which should be valid for the function.\n",
      "  df.groupby([\"gender\",\"country\"]).mean()\n"
     ]
    },
    {
     "data": {
      "text/html": [
       "<div>\n",
       "<style scoped>\n",
       "    .dataframe tbody tr th:only-of-type {\n",
       "        vertical-align: middle;\n",
       "    }\n",
       "\n",
       "    .dataframe tbody tr th {\n",
       "        vertical-align: top;\n",
       "    }\n",
       "\n",
       "    .dataframe thead th {\n",
       "        text-align: right;\n",
       "    }\n",
       "</style>\n",
       "<table border=\"1\" class=\"dataframe\">\n",
       "  <thead>\n",
       "    <tr style=\"text-align: right;\">\n",
       "      <th></th>\n",
       "      <th></th>\n",
       "      <th>id</th>\n",
       "      <th>price_paid</th>\n",
       "      <th>tax</th>\n",
       "    </tr>\n",
       "    <tr>\n",
       "      <th>gender</th>\n",
       "      <th>country</th>\n",
       "      <th></th>\n",
       "      <th></th>\n",
       "      <th></th>\n",
       "    </tr>\n",
       "  </thead>\n",
       "  <tbody>\n",
       "    <tr>\n",
       "      <th rowspan=\"4\" valign=\"top\">Female</th>\n",
       "      <th>Canada</th>\n",
       "      <td>461.472973</td>\n",
       "      <td>6.419324</td>\n",
       "      <td>20.0</td>\n",
       "    </tr>\n",
       "    <tr>\n",
       "      <th>France</th>\n",
       "      <td>512.648241</td>\n",
       "      <td>6.350352</td>\n",
       "      <td>20.0</td>\n",
       "    </tr>\n",
       "    <tr>\n",
       "      <th>Morocco</th>\n",
       "      <td>479.925926</td>\n",
       "      <td>7.024815</td>\n",
       "      <td>20.0</td>\n",
       "    </tr>\n",
       "    <tr>\n",
       "      <th>United States</th>\n",
       "      <td>487.282353</td>\n",
       "      <td>6.437118</td>\n",
       "      <td>20.0</td>\n",
       "    </tr>\n",
       "    <tr>\n",
       "      <th rowspan=\"4\" valign=\"top\">Male</th>\n",
       "      <th>Canada</th>\n",
       "      <td>406.000000</td>\n",
       "      <td>6.117467</td>\n",
       "      <td>20.0</td>\n",
       "    </tr>\n",
       "    <tr>\n",
       "      <th>France</th>\n",
       "      <td>534.928177</td>\n",
       "      <td>6.498950</td>\n",
       "      <td>20.0</td>\n",
       "    </tr>\n",
       "    <tr>\n",
       "      <th>Morocco</th>\n",
       "      <td>483.652174</td>\n",
       "      <td>6.146957</td>\n",
       "      <td>20.0</td>\n",
       "    </tr>\n",
       "    <tr>\n",
       "      <th>United States</th>\n",
       "      <td>525.284722</td>\n",
       "      <td>6.672500</td>\n",
       "      <td>20.0</td>\n",
       "    </tr>\n",
       "  </tbody>\n",
       "</table>\n",
       "</div>"
      ],
      "text/plain": [
       "                              id  price_paid   tax\n",
       "gender country                                    \n",
       "Female Canada         461.472973    6.419324  20.0\n",
       "       France         512.648241    6.350352  20.0\n",
       "       Morocco        479.925926    7.024815  20.0\n",
       "       United States  487.282353    6.437118  20.0\n",
       "Male   Canada         406.000000    6.117467  20.0\n",
       "       France         534.928177    6.498950  20.0\n",
       "       Morocco        483.652174    6.146957  20.0\n",
       "       United States  525.284722    6.672500  20.0"
      ]
     },
     "execution_count": 24,
     "metadata": {},
     "output_type": "execute_result"
    }
   ],
   "source": [
    "df.groupby([\"gender\",\"country\"]).mean()"
   ]
  },
  {
   "cell_type": "code",
   "execution_count": null,
   "id": "1555a4ef-82cf-4c2e-b507-c9c4890f75c8",
   "metadata": {},
   "outputs": [],
   "source": []
  }
 ],
 "metadata": {
  "kernelspec": {
   "display_name": "Python 3 (ipykernel)",
   "language": "python",
   "name": "python3"
  },
  "language_info": {
   "codemirror_mode": {
    "name": "ipython",
    "version": 3
   },
   "file_extension": ".py",
   "mimetype": "text/x-python",
   "name": "python",
   "nbconvert_exporter": "python",
   "pygments_lexer": "ipython3",
   "version": "3.9.0"
  }
 },
 "nbformat": 4,
 "nbformat_minor": 5
}
