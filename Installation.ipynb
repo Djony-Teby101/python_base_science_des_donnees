{
 "cells": [
  {
   "cell_type": "code",
   "execution_count": 1,
   "id": "c4c378f3-6448-49fb-aaf6-58473f939a2a",
   "metadata": {
    "tags": []
   },
   "outputs": [],
   "source": [
    "import pandas"
   ]
  },
  {
   "cell_type": "code",
   "execution_count": 2,
   "id": "6318e436-4f2c-4c0b-a10c-ac9b54dbb053",
   "metadata": {
    "tags": []
   },
   "outputs": [
    {
     "data": {
      "text/plain": [
       "<module 'pandas' from 'C:\\\\Users\\\\HP\\\\AppData\\\\Local\\\\Programs\\\\Python\\\\Python39\\\\lib\\\\site-packages\\\\pandas\\\\__init__.py'>"
      ]
     },
     "execution_count": 2,
     "metadata": {},
     "output_type": "execute_result"
    }
   ],
   "source": [
    "pandas"
   ]
  },
  {
   "cell_type": "code",
   "execution_count": null,
   "id": "8bcff51f-ce98-4ed8-a483-223e1ef42fa1",
   "metadata": {},
   "outputs": [],
   "source": [
    "LIRE UN FICHIER CSV"
   ]
  },
  {
   "cell_type": "code",
   "execution_count": null,
   "id": "0934c3a9-72b9-48a4-8d70-5a1c0040b1ab",
   "metadata": {},
   "outputs": [],
   "source": []
  }
 ],
 "metadata": {
  "kernelspec": {
   "display_name": "Python 3 (ipykernel)",
   "language": "python",
   "name": "python3"
  },
  "language_info": {
   "codemirror_mode": {
    "name": "ipython",
    "version": 3
   },
   "file_extension": ".py",
   "mimetype": "text/x-python",
   "name": "python",
   "nbconvert_exporter": "python",
   "pygments_lexer": "ipython3",
   "version": "3.9.0"
  }
 },
 "nbformat": 4,
 "nbformat_minor": 5
}
